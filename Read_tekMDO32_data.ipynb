{
 "cells": [
  {
   "cell_type": "code",
   "execution_count": 20,
   "id": "768ffea1-851c-4179-8855-5505bbeafdce",
   "metadata": {},
   "outputs": [],
   "source": [
    "import pandas as pd\n",
    "import seaborn as sns"
   ]
  },
  {
   "cell_type": "code",
   "execution_count": 21,
   "id": "8ef3f460-b2a1-40ba-b59a-59124cb49e62",
   "metadata": {},
   "outputs": [
    {
     "data": {
      "text/plain": [
       "Index(['Note', 'MDO32 - 10:47:47 AM   4/19/2025', 'Unnamed: 2',\n",
       "       '-193.59998760E-9', '-123.4374940E-6', 'Unnamed: 5'],\n",
       "      dtype='object')"
      ]
     },
     "execution_count": 21,
     "metadata": {},
     "output_type": "execute_result"
    }
   ],
   "source": [
    "df = pd.read_csv(r'D:\\Documents\\test_osc_output.csv',skiprows=16)\n",
    "df.columns"
   ]
  },
  {
   "cell_type": "code",
   "execution_count": 22,
   "id": "8774d319-3330-4118-801b-0ca69caffd55",
   "metadata": {},
   "outputs": [],
   "source": [
    "df.columns = ['Note', 'MDO32 - 10:30:58 AM   4/19/2025', 'Unnamed: 2',\n",
    "       'x', 'y', 'Unnamed: 5']"
   ]
  },
  {
   "cell_type": "code",
   "execution_count": 23,
   "id": "f628df0b-7146-41c2-841f-8240cfd87473",
   "metadata": {},
   "outputs": [],
   "source": [
    "df = df[['x','y']]"
   ]
  },
  {
   "cell_type": "code",
   "execution_count": 24,
   "id": "cdc0e7f8-c72e-4790-885f-5c7821dfe917",
   "metadata": {},
   "outputs": [
    {
     "data": {
      "text/plain": [
       "((983, 2), 491)"
      ]
     },
     "execution_count": 24,
     "metadata": {},
     "output_type": "execute_result"
    }
   ],
   "source": [
    "df.shape , df.shape[0]//2"
   ]
  },
  {
   "cell_type": "code",
   "execution_count": null,
   "id": "8489fb5c-d4ae-435d-abc5-254cf85cb953",
   "metadata": {},
   "outputs": [
    {
     "data": {
      "text/plain": [
       "<Axes: xlabel='x', ylabel='y'>"
      ]
     },
     "execution_count": 25,
     "metadata": {},
     "output_type": "execute_result"
    }
   ],
   "source": [
    "sns.lineplot(x='x',y='y',data=df.iloc[400:600])\n"
   ]
  },
  {
   "cell_type": "code",
   "execution_count": null,
   "id": "c6dffd02-ae54-42f1-b1df-d93e1f9b364e",
   "metadata": {},
   "outputs": [],
   "source": []
  }
 ],
 "metadata": {
  "kernelspec": {
   "display_name": "Python 3 (ipykernel)",
   "language": "python",
   "name": "python3"
  },
  "language_info": {
   "codemirror_mode": {
    "name": "ipython",
    "version": 3
   },
   "file_extension": ".py",
   "mimetype": "text/x-python",
   "name": "python",
   "nbconvert_exporter": "python",
   "pygments_lexer": "ipython3",
   "version": "3.12.10"
  }
 },
 "nbformat": 4,
 "nbformat_minor": 5
}
