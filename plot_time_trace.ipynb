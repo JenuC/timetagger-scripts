{
 "cells": [
  {
   "cell_type": "code",
   "execution_count": 1,
   "metadata": {},
   "outputs": [],
   "source": [
    "import TimeTagger as TT\n",
    "from TimeTagger import Countrate, Counter"
   ]
  },
  {
   "cell_type": "code",
   "execution_count": 4,
   "metadata": {},
   "outputs": [
    {
     "data": {
      "text/plain": [
       "[WindowsPath('C:/Program Files/Micro-Manager-nightly-markt/DCC_alone.cfg'),\n",
       " WindowsPath('C:/Program Files/Micro-Manager-nightly-markt/ImageJ.cfg'),\n",
       " WindowsPath('C:/Program Files/Micro-Manager-nightly-markt/MMConfig_demo.cfg'),\n",
       " WindowsPath('C:/Program Files/Micro-Manager-nightly-markt/test-dcc.cfg')]"
      ]
     },
     "execution_count": 4,
     "metadata": {},
     "output_type": "execute_result"
    }
   ],
   "source": [
    "import pathlib\n",
    "list(pathlib.Path(r'C:\\Program Files\\Micro-Manager-nightly-markt').glob('*.cfg'))"
   ]
  },
  {
   "cell_type": "code",
   "execution_count": 8,
   "metadata": {},
   "outputs": [
    {
     "ename": "SyntaxError",
     "evalue": "invalid syntax (1365597985.py, line 2)",
     "output_type": "error",
     "traceback": [
      "  \u001b[36mCell\u001b[39m\u001b[36m \u001b[39m\u001b[32mIn[8]\u001b[39m\u001b[32m, line 2\u001b[39m\n\u001b[31m    \u001b[39m\u001b[31mexport MICROMANAGER_PATH=/path/to/installation\u001b[39m\n           ^\n\u001b[31mSyntaxError\u001b[39m\u001b[31m:\u001b[39m invalid syntax\n"
     ]
    }
   ],
   "source": [
    "#!cmd\n",
    "#export MICROMANAGER_PATH=/path/to/installation\n",
    "#mmcore use <some path or pattern>"
   ]
  },
  {
   "cell_type": "markdown",
   "metadata": {},
   "source": [
    "## do only once for pymmcore-plus sanity tests"
   ]
  },
  {
   "cell_type": "code",
   "execution_count": 9,
   "metadata": {},
   "outputs": [
    {
     "name": "stdout",
     "output_type": "stream",
     "text": [
      "pymmcore-plus v0.13.7\n",
      "pymmcore v11.5.0.73.0\n",
      "MMCore vMMCore version 11.5.0\n",
      "Device API version 73, Module API version 10\n"
     ]
    }
   ],
   "source": [
    "! mmcore --version"
   ]
  },
  {
   "cell_type": "code",
   "execution_count": 10,
   "metadata": {},
   "outputs": [
    {
     "name": "stdout",
     "output_type": "stream",
     "text": [
      "ðŸ“� C:\\Program Files\n",
      "   * Micro-Manager-1.4 (active)\n"
     ]
    }
   ],
   "source": [
    "! mmcore list"
   ]
  },
  {
   "cell_type": "code",
   "execution_count": 14,
   "metadata": {},
   "outputs": [
    {
     "name": "stdout",
     "output_type": "stream",
     "text": [
      "using C:\\Program Files\\Micro-Manager-nightly-markt\n"
     ]
    }
   ],
   "source": [
    "! mmcore use \"C:\\Program Files\\Micro-Manager-nightly-markt\""
   ]
  },
  {
   "cell_type": "code",
   "execution_count": 12,
   "metadata": {},
   "outputs": [
    {
     "name": "stdout",
     "output_type": "stream",
     "text": [
      "ðŸ“� C:\\Program Files\n",
      "   * Micro-Manager-nightly-markt (Dev. Interface 73) (active)\n",
      "   â€¢ Micro-Manager-1.4\n"
     ]
    }
   ],
   "source": [
    "! mmcore list"
   ]
  },
  {
   "cell_type": "code",
   "execution_count": 13,
   "metadata": {},
   "outputs": [
    {
     "name": "stdout",
     "output_type": "stream",
     "text": [
      "C:\\Program Files\\Micro-Manager-nightly-markt\n"
     ]
    }
   ],
   "source": [
    "from pymmcore_plus import find_micromanager\n",
    "print(find_micromanager())"
   ]
  },
  {
   "cell_type": "markdown",
   "metadata": {},
   "source": [
    "## back to dcc load"
   ]
  },
  {
   "cell_type": "code",
   "execution_count": 5,
   "metadata": {},
   "outputs": [
    {
     "data": {
      "text/html": [
       "<pre style=\"white-space:pre;overflow-x:auto;line-height:normal;font-family:Menlo,'DejaVu Sans Mono',consolas,'Courier New',monospace\"><span style=\"color: #7fbfbf; text-decoration-color: #7fbfbf\">[04/17/25 15:33:46] </span><span style=\"color: #800000; text-decoration-color: #800000; font-weight: bold\">ERROR   </span> could not find micromanager directory for device interface <span style=\"color: #008080; text-decoration-color: #008080; font-weight: bold\">73</span>. Please run <a href=\"file://C:\\Users\\lociuser\\code\\timetagger-scripts\\.venv\\Lib\\site-packages\\pymmcore_plus\\_util.py\" target=\"_blank\"><span style=\"color: #7f7f7f; text-decoration-color: #7f7f7f\">_util.py</span></a><span style=\"color: #7f7f7f; text-decoration-color: #7f7f7f\">:</span><a href=\"file://C:\\Users\\lociuser\\code\\timetagger-scripts\\.venv\\Lib\\site-packages\\pymmcore_plus\\_util.py#190\" target=\"_blank\"><span style=\"color: #7f7f7f; text-decoration-color: #7f7f7f\">190</span></a>\n",
       "<span style=\"color: #7fbfbf; text-decoration-color: #7fbfbf\">                    </span>         <span style=\"color: #008000; text-decoration-color: #008000\">'mmcore install'</span>                                                          <span style=\"color: #7f7f7f; text-decoration-color: #7f7f7f\">            </span>\n",
       "</pre>\n"
      ],
      "text/plain": [
       "\u001b[2;36m[04/17/25 15:33:46]\u001b[0m\u001b[2;36m \u001b[0m\u001b[1;31mERROR   \u001b[0m could not find micromanager directory for device interface \u001b[1;36m73\u001b[0m. Please run \u001b]8;id=157588;file://C:\\Users\\lociuser\\code\\timetagger-scripts\\.venv\\Lib\\site-packages\\pymmcore_plus\\_util.py\u001b\\\u001b[2m_util.py\u001b[0m\u001b]8;;\u001b\\\u001b[2m:\u001b[0m\u001b]8;id=524682;file://C:\\Users\\lociuser\\code\\timetagger-scripts\\.venv\\Lib\\site-packages\\pymmcore_plus\\_util.py#190\u001b\\\u001b[2m190\u001b[0m\u001b]8;;\u001b\\\n",
       "\u001b[2;36m                    \u001b[0m         \u001b[32m'mmcore install'\u001b[0m                                                          \u001b[2m            \u001b[0m\n"
      ]
     },
     "metadata": {},
     "output_type": "display_data"
    },
    {
     "ename": "OSError",
     "evalue": "Line 7: Device,DCCHub,BH_DCC_DCU,DCCHub\nFailed to load device adapter \"BH_DCC_DCU\" [ Failed to load module \"mmgr_dal_BH_DCC_DCU\" [ The module, or a module it depends upon, could not be found (Windows error: The specified module could not be found.) ] ]\n\n",
     "output_type": "error",
     "traceback": [
      "\u001b[31m---------------------------------------------------------------------------\u001b[39m",
      "\u001b[31mOSError\u001b[39m                                   Traceback (most recent call last)",
      "\u001b[36mCell\u001b[39m\u001b[36m \u001b[39m\u001b[32mIn[5]\u001b[39m\u001b[32m, line 4\u001b[39m\n\u001b[32m      2\u001b[39m mmc = CMMCorePlus()\n\u001b[32m      3\u001b[39m \u001b[38;5;66;03m#mmc.loadSystemConfiguration(r'C:/Program Files/Micro-Manager-2.0.0/DCC_alone.cfg')\u001b[39;00m\n\u001b[32m----> \u001b[39m\u001b[32m4\u001b[39m \u001b[43mmmc\u001b[49m\u001b[43m.\u001b[49m\u001b[43mloadSystemConfiguration\u001b[49m\u001b[43m(\u001b[49m\u001b[33;43mr\u001b[39;49m\u001b[33;43m'\u001b[39;49m\u001b[33;43mC:/Program Files/Micro-Manager-nightly-markt/DCC_alone.cfg\u001b[39;49m\u001b[33;43m'\u001b[39;49m\u001b[43m)\u001b[49m\n",
      "\u001b[36mFile \u001b[39m\u001b[32m~\\code\\timetagger-scripts\\.venv\\Lib\\site-packages\\pymmcore_plus\\core\\_mmcore_plus.py:434\u001b[39m, in \u001b[36mCMMCorePlus.loadSystemConfiguration\u001b[39m\u001b[34m(self, fileName)\u001b[39m\n\u001b[32m    432\u001b[39m     \u001b[38;5;28;01mraise\u001b[39;00m \u001b[38;5;167;01mFileNotFoundError\u001b[39;00m(\u001b[33mf\u001b[39m\u001b[33m\"\u001b[39m\u001b[33mPath does not exist: \u001b[39m\u001b[38;5;132;01m{\u001b[39;00mfpath\u001b[38;5;132;01m}\u001b[39;00m\u001b[33m\"\u001b[39m)\n\u001b[32m    433\u001b[39m \u001b[38;5;28mself\u001b[39m._last_sys_config = \u001b[38;5;28mstr\u001b[39m(fpath.resolve())\n\u001b[32m--> \u001b[39m\u001b[32m434\u001b[39m \u001b[38;5;28;43msuper\u001b[39;49m\u001b[43m(\u001b[49m\u001b[43m)\u001b[49m\u001b[43m.\u001b[49m\u001b[43mloadSystemConfiguration\u001b[49m\u001b[43m(\u001b[49m\u001b[38;5;28;43mself\u001b[39;49m\u001b[43m.\u001b[49m\u001b[43m_last_sys_config\u001b[49m\u001b[43m)\u001b[49m\n",
      "\u001b[31mOSError\u001b[39m: Line 7: Device,DCCHub,BH_DCC_DCU,DCCHub\nFailed to load device adapter \"BH_DCC_DCU\" [ Failed to load module \"mmgr_dal_BH_DCC_DCU\" [ The module, or a module it depends upon, could not be found (Windows error: The specified module could not be found.) ] ]\n\n"
     ]
    }
   ],
   "source": [
    "from pymmcore_plus import CMMCorePlus\n",
    "mmc = CMMCorePlus()\n",
    "#mmc.loadSystemConfiguration(r'C:/Program Files/Micro-Manager-2.0.0/DCC_alone.cfg')\n",
    "mmc.loadSystemConfiguration(r'C:/Program Files/Micro-Manager-nightly-markt/DCC_alone.cfg')"
   ]
  },
  {
   "cell_type": "code",
   "execution_count": null,
   "metadata": {},
   "outputs": [],
   "source": []
  },
  {
   "cell_type": "code",
   "execution_count": null,
   "metadata": {},
   "outputs": [],
   "source": []
  },
  {
   "cell_type": "code",
   "execution_count": 2,
   "metadata": {},
   "outputs": [],
   "source": [
    "tagger = TT.createTimeTagger()\n",
    "tagger.reset()\n",
    "tagger.clearOverflows()\n"
   ]
  },
  {
   "cell_type": "code",
   "execution_count": 3,
   "metadata": {},
   "outputs": [],
   "source": [
    "''' set variables and triggers ''' \n",
    "\n",
    "# input channels\n",
    "pmt1_start = -1\n",
    "pmt1_stop = 1\n",
    "\n",
    "# trigger levels in V\n",
    "tagger.setTriggerLevel(pmt1_start,-0.01)  \n"
   ]
  },
  {
   "cell_type": "code",
   "execution_count": 4,
   "metadata": {},
   "outputs": [],
   "source": [
    "channels = [pmt1_start,pmt1_stop]"
   ]
  },
  {
   "cell_type": "code",
   "execution_count": 5,
   "metadata": {},
   "outputs": [],
   "source": [
    "import matplotlib.pyplot as plt"
   ]
  },
  {
   "cell_type": "code",
   "execution_count": 6,
   "metadata": {},
   "outputs": [],
   "source": [
    "import numpy as np"
   ]
  },
  {
   "cell_type": "raw",
   "metadata": {},
   "source": [
    "#Countrate(tagger, channels)\n",
    "#print(counter.isRunning())\n",
    "for t in range(100)  :\n",
    "    if counter.isRunning():\n",
    "        data = counter.getData()\n",
    "    else:\n",
    "        pass\n",
    "    ncounts = np.array(counter.getCountsTotal()).sum()\n",
    "    if ncounts>0: \n",
    "        plt.plot(t,data,'.r')\n",
    "    #print(ncounts,data, end=\"\")\n",
    "else:\n",
    "    counter.stop()\n",
    "    \n"
   ]
  },
  {
   "cell_type": "code",
   "execution_count": 11,
   "metadata": {},
   "outputs": [
    {
     "data": {
      "text/plain": [
       "5.0"
      ]
     },
     "execution_count": 11,
     "metadata": {},
     "output_type": "execute_result"
    }
   ],
   "source": [
    "binwidth = 1E9\n",
    "n_values = 5000\n",
    "binwidth*n_values/1E12"
   ]
  },
  {
   "cell_type": "code",
   "execution_count": 10,
   "metadata": {},
   "outputs": [],
   "source": [
    "import time"
   ]
  },
  {
   "cell_type": "code",
   "execution_count": 12,
   "metadata": {},
   "outputs": [
    {
     "name": "stdout",
     "output_type": "stream",
     "text": [
      "5.0 sec\n"
     ]
    },
    {
     "data": {
      "image/png": "[encoded data removed]",
      "text/plain": [
       "<Figure size 640x480 with 1 Axes>"
      ]
     },
     "metadata": {},
     "output_type": "display_data"
    }
   ],
   "source": [
    "binwidth = 1E9\n",
    "n_values = 5000\n",
    "counter = Counter(tagger, channels, binwidth, n_values) \n",
    "counter.startFor(capture_duration=binwidth*n_values)\n",
    "print(binwidth*n_values/1E12,'sec')\n",
    "while counter.isRunning(): time.sleep(binwidth*n_values/1E12)\n",
    "if not counter.isRunning():\n",
    "    data = counter.getData()\n",
    "    plt. plot(data.T)\n",
    "    "
   ]
  },
  {
   "cell_type": "code",
   "execution_count": 13,
   "metadata": {},
   "outputs": [
    {
     "data": {
      "text/plain": [
       "{'name': 'Counter',\n",
       " 'params': {'binwidth': 1000000000, 'channels': [-1, 1], 'n values': 5000},\n",
       " 'registered channels': [-1, 1],\n",
       " 'virtual channels': []}"
      ]
     },
     "execution_count": 13,
     "metadata": {},
     "output_type": "execute_result"
    }
   ],
   "source": [
    "counter.getConfiguration()"
   ]
  },
  {
   "cell_type": "code",
   "execution_count": null,
   "metadata": {},
   "outputs": [],
   "source": []
  },
  {
   "cell_type": "code",
   "execution_count": null,
   "metadata": {},
   "outputs": [],
   "source": []
  },
  {
   "cell_type": "code",
   "execution_count": null,
   "metadata": {},
   "outputs": [],
   "source": []
  },
  {
   "cell_type": "code",
   "execution_count": null,
   "metadata": {},
   "outputs": [],
   "source": []
  },
  {
   "cell_type": "code",
   "execution_count": 12,
   "metadata": {},
   "outputs": [
    {
     "data": {
      "text/plain": [
       "(0, array([nan, nan]))"
      ]
     },
     "execution_count": 12,
     "metadata": {},
     "output_type": "execute_result"
    }
   ],
   "source": [
    "ncounts,data "
   ]
  },
  {
   "cell_type": "code",
   "execution_count": 1,
   "metadata": {},
   "outputs": [
    {
     "ename": "NameError",
     "evalue": "name 'tagger' is not defined",
     "output_type": "error",
     "traceback": [
      "\u001b[1;31m---------------------------------------------------------------------------\u001b[0m",
      "\u001b[1;31mNameError\u001b[0m                                 Traceback (most recent call last)",
      "Cell \u001b[1;32mIn[1], line 1\u001b[0m\n\u001b[1;32m----> 1\u001b[0m tagger\u001b[38;5;241m.\u001b[39mstopServer\n",
      "\u001b[1;31mNameError\u001b[0m: name 'tagger' is not defined"
     ]
    }
   ],
   "source": [
    "tagger.stopServer"
   ]
  },
  {
   "cell_type": "code",
   "execution_count": null,
   "metadata": {},
   "outputs": [],
   "source": []
  }
 ],
 "metadata": {
  "kernelspec": {
   "display_name": "Python 3 (ipykernel)",
   "language": "python",
   "name": "python3"
  },
  "language_info": {
   "codemirror_mode": {
    "name": "ipython",
    "version": 3
   },
   "file_extension": ".py",
   "mimetype": "text/x-python",
   "name": "python",
   "nbconvert_exporter": "python",
   "pygments_lexer": "ipython3",
   "version": "3.12.10"
  }
 },
 "nbformat": 4,
 "nbformat_minor": 4
}
