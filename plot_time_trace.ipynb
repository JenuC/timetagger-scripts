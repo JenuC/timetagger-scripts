{
 "cells": [
  {
   "cell_type": "code",
   "execution_count": null,
   "metadata": {},
   "outputs": [],
   "source": []
  },
  {
   "cell_type": "code",
   "execution_count": 1,
   "metadata": {},
   "outputs": [
    {
     "data": {
      "text/plain": [
       "[WindowsPath('C:/Program Files/Micro-Manager-nightly-markt/DCC_alone.cfg'),\n",
       " WindowsPath('C:/Program Files/Micro-Manager-nightly-markt/ImageJ.cfg'),\n",
       " WindowsPath('C:/Program Files/Micro-Manager-nightly-markt/MMConfig_demo.cfg'),\n",
       " WindowsPath('C:/Program Files/Micro-Manager-nightly-markt/test-dcc.cfg')]"
      ]
     },
     "execution_count": 1,
     "metadata": {},
     "output_type": "execute_result"
    }
   ],
   "source": [
    "import pathlib\n",
    "list(pathlib.Path(r'C:\\Program Files\\Micro-Manager-nightly-markt').glob('*.cfg'))"
   ]
  },
  {
   "cell_type": "code",
   "execution_count": 2,
   "metadata": {},
   "outputs": [],
   "source": [
    "#!cmd\n",
    "#export MICROMANAGER_PATH=/path/to/installation\n",
    "#mmcore use <some path or pattern>"
   ]
  },
  {
   "cell_type": "markdown",
   "metadata": {},
   "source": [
    "## do only once for pymmcore-plus sanity tests"
   ]
  },
  {
   "cell_type": "code",
   "execution_count": 9,
   "metadata": {},
   "outputs": [
    {
     "name": "stdout",
     "output_type": "stream",
     "text": [
      "pymmcore-plus v0.13.7\n",
      "pymmcore v11.5.0.73.0\n",
      "MMCore vMMCore version 11.5.0\n",
      "Device API version 73, Module API version 10\n"
     ]
    }
   ],
   "source": [
    "! mmcore --version"
   ]
  },
  {
   "cell_type": "code",
   "execution_count": 10,
   "metadata": {},
   "outputs": [
    {
     "name": "stdout",
     "output_type": "stream",
     "text": [
      "ðŸ“� C:\\Program Files\n",
      "   * Micro-Manager-1.4 (active)\n"
     ]
    }
   ],
   "source": [
    "! mmcore list"
   ]
  },
  {
   "cell_type": "code",
   "execution_count": 14,
   "metadata": {},
   "outputs": [
    {
     "name": "stdout",
     "output_type": "stream",
     "text": [
      "using C:\\Program Files\\Micro-Manager-nightly-markt\n"
     ]
    }
   ],
   "source": [
    "! mmcore use \"C:\\Program Files\\Micro-Manager-nightly-markt\""
   ]
  },
  {
   "cell_type": "code",
   "execution_count": 12,
   "metadata": {},
   "outputs": [
    {
     "name": "stdout",
     "output_type": "stream",
     "text": [
      "ðŸ“� C:\\Program Files\n",
      "   * Micro-Manager-nightly-markt (Dev. Interface 73) (active)\n",
      "   â€¢ Micro-Manager-1.4\n"
     ]
    }
   ],
   "source": [
    "! mmcore list"
   ]
  },
  {
   "cell_type": "code",
   "execution_count": 13,
   "metadata": {},
   "outputs": [
    {
     "name": "stdout",
     "output_type": "stream",
     "text": [
      "C:\\Program Files\\Micro-Manager-nightly-markt\n"
     ]
    }
   ],
   "source": [
    "from pymmcore_plus import find_micromanager\n",
    "print(find_micromanager())"
   ]
  },
  {
   "cell_type": "markdown",
   "metadata": {},
   "source": [
    "## start here: dcc load"
   ]
  },
  {
   "cell_type": "code",
   "execution_count": 3,
   "metadata": {},
   "outputs": [],
   "source": [
    "from pymmcore_plus import CMMCorePlus\n",
    "mmc = CMMCorePlus()\n",
    "#mmc.loadSystemConfiguration(r'C:/Program Files/Micro-Manager-2.0.0/DCC_alone.cfg')\n",
    "mmc.loadSystemConfiguration(r'C:/Program Files/Micro-Manager-nightly-markt/DCC_alone.cfg')"
   ]
  },
  {
   "cell_type": "code",
   "execution_count": 5,
   "metadata": {},
   "outputs": [
    {
     "name": "stdout",
     "output_type": "stream",
     "text": [
      "('DCCHub', 'DCCModule1', 'Core')\n",
      "DCCHub ('SimulateDevice', 'Simulated', 'UseModule1', 'UseModule2', 'UseModule3', 'UseModule4', 'UseModule5', 'UseModule6', 'UseModule7', 'UseModule8')\n",
      "DCCModule1 ('BaseAddress', 'BusNumber', 'C1_GainHV', 'C1_Minus5V', 'C1_Overloaded', 'C1_Plus12V', 'C1_Plus5V', 'C2_DigitalOut', 'C2_Minus5V', 'C2_Plus12V', 'C2_Plus5V', 'C3_CoolerCurrentLimit', 'C3_CoolerCurrentLimitReached', 'C3_CoolerVoltage', 'C3_Cooling', 'C3_GainHV', 'C3_Minus5V', 'C3_Overloaded', 'C3_Plus12V', 'C3_Plus5V', 'ClearOverloads', 'EnableOutputs', 'ModuleNumber', 'ModuleType', 'SerialNumber', 'SlotNumber')\n",
      "Core ('AutoFocus', 'AutoShutter', 'Camera', 'ChannelGroup', 'Focus', 'Galvo', 'ImageProcessor', 'Initialize', 'SLM', 'Shutter', 'TimeoutMs', 'XYStage')\n"
     ]
    }
   ],
   "source": [
    "print(mmc.getLoadedDevices())\n",
    "for dev in mmc.getLoadedDevices():\n",
    "    print(dev, mmc.getDevicePropertyNames(dev))"
   ]
  },
  {
   "cell_type": "code",
   "execution_count": 6,
   "metadata": {},
   "outputs": [
    {
     "data": {
      "text/plain": [
       "('ENABLE', 'GAIN CONTROL PERCENT', 'Supply')"
      ]
     },
     "execution_count": 6,
     "metadata": {},
     "output_type": "execute_result"
    }
   ],
   "source": [
    "mmc.getAvailableConfigGroups()"
   ]
  },
  {
   "cell_type": "code",
   "execution_count": 7,
   "metadata": {},
   "outputs": [
    {
     "data": {
      "text/plain": [
       "['BH_DCC', 'BH_DCC_DCU']"
      ]
     },
     "execution_count": 7,
     "metadata": {},
     "output_type": "execute_result"
    }
   ],
   "source": [
    "device_adapter_names = mmc.getDeviceAdapterNames()\n",
    "[k for k in device_adapter_names if k.find('BH')>-1]"
   ]
  },
  {
   "cell_type": "code",
   "execution_count": 8,
   "metadata": {},
   "outputs": [],
   "source": [
    "from pymmcore_plus import Device, DeviceProperty"
   ]
  },
  {
   "cell_type": "code",
   "execution_count": 9,
   "metadata": {},
   "outputs": [
    {
     "name": "stdout",
     "output_type": "stream",
     "text": [
      "SimulateDevice No\n",
      "Simulated No\n",
      "UseModule1 Yes\n",
      "UseModule2 No\n",
      "UseModule3 No\n",
      "UseModule4 No\n",
      "UseModule5 No\n",
      "UseModule6 No\n",
      "UseModule7 No\n",
      "UseModule8 No\n"
     ]
    },
    {
     "name": "stderr",
     "output_type": "stream",
     "text": [
      "C:\\Users\\lociuser\\code\\timetagger-scripts\\.venv\\Lib\\site-packages\\pymmcore_plus\\core\\_mmcore_plus.py:383: UserWarning: The specified device label \"DCCHub\" is already in use. Device 'DCCHub' appears to be loaded already.\n",
      "  if exc := self._load_error_with_info(label, moduleName, deviceName, str(e)):\n"
     ]
    }
   ],
   "source": [
    "device = mmc.getDeviceObject('DCCHub')\n",
    "device.load('BH_DCC_DCU', 'DCCHub') \n",
    "#device.initialize()\n",
    "for prop in device.properties:\n",
    "    print(prop.name, prop.value) "
   ]
  },
  {
   "cell_type": "code",
   "execution_count": 10,
   "metadata": {},
   "outputs": [
    {
     "name": "stdout",
     "output_type": "stream",
     "text": [
      "BaseAddress\n",
      "BusNumber\n",
      "C1_GainHV\n",
      "C1_Minus5V\n",
      "C1_Overloaded\n",
      "C1_Plus12V\n",
      "C1_Plus5V\n",
      "C2_DigitalOut\n",
      "C2_Minus5V\n",
      "C2_Plus12V\n",
      "C2_Plus5V\n",
      "C3_CoolerCurrentLimit\n",
      "C3_CoolerCurrentLimitReached\n",
      "C3_CoolerVoltage\n",
      "C3_Cooling\n",
      "C3_GainHV\n",
      "C3_Minus5V\n",
      "C3_Overloaded\n",
      "C3_Plus12V\n",
      "C3_Plus5V\n",
      "ClearOverloads\n",
      "EnableOutputs\n",
      "ModuleNumber\n",
      "ModuleType\n",
      "SerialNumber\n",
      "SlotNumber\n"
     ]
    }
   ],
   "source": [
    "props = mmc.getDevicePropertyNames('DCCModule1')\n",
    "for prop in props:\n",
    "    print(prop) "
   ]
  },
  {
   "cell_type": "code",
   "execution_count": 12,
   "metadata": {},
   "outputs": [
    {
     "data": {
      "text/plain": [
       "('0.0000', 'Off', '0.0000')"
      ]
     },
     "execution_count": 12,
     "metadata": {},
     "output_type": "execute_result"
    }
   ],
   "source": [
    "mmc.getProperty('DCCModule1', 'C3_CoolerVoltage'), mmc.getProperty('DCCModule1','C3_Cooling'),mmc.getProperty('DCCModule1','C3_CoolerCurrentLimit')"
   ]
  },
  {
   "cell_type": "code",
   "execution_count": 11,
   "metadata": {},
   "outputs": [
    {
     "data": {
      "text/plain": [
       "('0.0000', 'Off', 'Off')"
      ]
     },
     "execution_count": 11,
     "metadata": {},
     "output_type": "execute_result"
    }
   ],
   "source": [
    "mmc.getProperty('DCCModule1', 'C1_GainHV'), mmc.getProperty('DCCModule1','EnableOutputs'),mmc.getProperty('DCCModule1','C3_Plus12V')"
   ]
  },
  {
   "cell_type": "code",
   "execution_count": 13,
   "metadata": {},
   "outputs": [],
   "source": [
    "def start_PMT(mmc,gain=65,ch='C3'):\n",
    "    mmc.setProperty('DCCModule1',ch+'_GainHV',gain)\n",
    "    mmc.setProperty('DCCModule1','EnableOutputs','On')\n",
    "    mmc.setProperty('DCCModule1',ch+'_Plus12V','On')\n",
    "    mmc.waitForDevice('DCCModule1')\n",
    "\n",
    "def stop_PMT(mmc,gain=0,ch='C3'):\n",
    "    mmc.setProperty('DCCModule1',ch+'_GainHV',gain)\n",
    "    mmc.setProperty('DCCModule1','EnableOutputs','Off')\n",
    "    mmc.setProperty('DCCModule1',ch+'_Plus12V','Off')\n",
    "    mmc.waitForDevice('DCCModule1')\n",
    "\n",
    "def pmt_cooler(mmc):\n",
    "    mmc.setProperty('DCCModule1', 'C3_CoolerVoltage',2.6) \n",
    "    mmc.setProperty('DCCModule1','C3_Cooling','On')\n",
    "    mmc.setProperty('DCCModule1','C3_CoolerCurrentLimit',1.0)\n"
   ]
  },
  {
   "cell_type": "code",
   "execution_count": 35,
   "metadata": {},
   "outputs": [],
   "source": [
    "from dataclasses import dataclass, asdict\n",
    "from typing import Optional\n",
    "\n",
    "@dataclass\n",
    "class PMTChannelConfig:\n",
    "    module: str = \"DCCModule1\"\n",
    "    channel: str = \"C3\"\n",
    "    gain_hv: float = 65.0\n",
    "    enable_outputs: bool = True\n",
    "    plus12v: bool = True\n",
    "    cooler_voltage: Optional[float] = None\n",
    "    cooler_on: bool = False\n",
    "    cooler_current_limit: Optional[float] = None\n",
    "\n",
    "    def apply(self, mmc):\n",
    "        \"\"\"Write this config into the MMCore device.\"\"\"\n",
    "        ch = self.channel\n",
    "        m = self.module\n",
    "\n",
    "        mmc.setProperty(m, f\"{ch}_GainHV\",      self.gain_hv)\n",
    "        mmc.setProperty(m, \"EnableOutputs\",     \"On\" if self.enable_outputs else \"Off\")\n",
    "        mmc.setProperty(m, f\"{ch}_Plus12V\",      \"On\" if self.plus12v       else \"Off\")\n",
    "\n",
    "        if self.cooler_voltage is not None:\n",
    "            mmc.setProperty(m, f\"{ch}_CoolerVoltage\", self.cooler_voltage)\n",
    "        if self.cooler_on:\n",
    "            mmc.setProperty(m, f\"{ch}_Cooling\",       \"On\")\n",
    "        if self.cooler_current_limit is not None:\n",
    "            mmc.setProperty(m, f\"{ch}_CoolerCurrentLimit\", self.cooler_current_limit)\n",
    "\n",
    "        mmc.waitForDevice(m)\n",
    "\n",
    "    def snapshot(self, mmc):\n",
    "        \"\"\"Read back every property into a dict.\"\"\"\n",
    "        ch = self.channel\n",
    "        m  = self.module\n",
    "\n",
    "        data = {\n",
    "            \"gain_hv\":           float(mmc.getProperty(m, f\"{ch}_GainHV\")),\n",
    "            \"enable_outputs\":    mmc.getProperty(m, \"EnableOutputs\") == \"On\",\n",
    "            \"plus12v\":           mmc.getProperty(m, f\"{ch}_Plus12V\") == \"On\",\n",
    "            \"cooler_voltage\":    float(mmc.getProperty(m, f\"{ch}_CoolerVoltage\")),\n",
    "            \"cooler_on\":         mmc.getProperty(m, f\"{ch}_Cooling\") == \"On\",\n",
    "            \"cooler_current_limit\": float(mmc.getProperty(m, f\"{ch}_CoolerCurrentLimit\")),\n",
    "        }\n",
    "        return data\n",
    "\n",
    "    def set_gain(self, mmc, gain_hv: float):\n",
    "        \"\"\"Change only the high‑voltage gain (in %).\"\"\"\n",
    "        self.gain_hv = gain_hv\n",
    "        mmc.setProperty(self.module, f\"{self.channel}_GainHV\", gain_hv)\n",
    "        mmc.waitForDevice(self.module)\n",
    "\n",
    "    def turn_off_cooling(self, mmc):\n",
    "        \"\"\"Disable the cooler on this channel.\"\"\"\n",
    "        self.cooler_on = False\n",
    "        mmc.setProperty(self.module, f\"{self.channel}_Cooling\", \"Off\")\n",
    "        mmc.waitForDevice(self.module)\n",
    "\n",
    "    def turn_off_pmt(self, mmc):\n",
    "        \"\"\"\n",
    "        Fully power down the PMT channel:\n",
    "         - set gain to 0%\n",
    "         - outputs OFF\n",
    "         - +12 V OFF\n",
    "         - cooler OFF\n",
    "        \"\"\"\n",
    "        m, ch = self.module, self.channel\n",
    "        self.gain_hv = 0.0\n",
    "        self.enable_outputs = False\n",
    "        self.plus12v = False\n",
    "        self.cooler_on = False\n",
    "\n",
    "        mmc.setProperty(m, f\"{ch}_GainHV\",      0.0)\n",
    "        mmc.setProperty(m, \"EnableOutputs\",     \"Off\")\n",
    "        mmc.setProperty(m, f\"{ch}_Plus12V\",      \"Off\")\n",
    "        mmc.setProperty(m, f\"{ch}_Cooling\",      \"Off\")\n",
    "        mmc.waitForDevice(m)\n",
    "\n",
    "    def destroy(self, mmc):\n",
    "        self.turn_off_pmt(mmc)\n",
    "        \n",
    "import time\n",
    "def sweep_gain(mmc, config: PMTChannelConfig,\n",
    "               start: int=45, stop: int=85, step: int=5, sleep_sec = 2):\n",
    "    \n",
    "    for g in range(start, stop+1, step):\n",
    "        config.set_gain(mmc, g)\n",
    "        #results[g] = config.snapshot(mmc)\n",
    "        print(config.snapshot(mmc)['gain_hv'])\n",
    "        time.sleep(sleep_sec)"
   ]
  },
  {
   "cell_type": "code",
   "execution_count": null,
   "metadata": {},
   "outputs": [],
   "source": []
  },
  {
   "cell_type": "code",
   "execution_count": 25,
   "metadata": {},
   "outputs": [
    {
     "data": {
      "text/plain": [
       "PMTChannelConfig(module='DCCModule1', channel='C3', gain_hv=70, enable_outputs=True, plus12v=True, cooler_voltage=2.6, cooler_on=True, cooler_current_limit=1.0)"
      ]
     },
     "execution_count": 25,
     "metadata": {},
     "output_type": "execute_result"
    }
   ],
   "source": [
    "cfg = PMTChannelConfig(\n",
    "    module=\"DCCModule1\", channel=\"C3\",\n",
    "    gain_hv=70, enable_outputs=True, plus12v=True,\n",
    "    cooler_voltage=2.6, cooler_on=True, cooler_current_limit=1.0\n",
    ")\n",
    "cfg"
   ]
  },
  {
   "cell_type": "code",
   "execution_count": 26,
   "metadata": {},
   "outputs": [
    {
     "name": "stdout",
     "output_type": "stream",
     "text": [
      "PMT status: {'gain_hv': 70.0, 'enable_outputs': True, 'plus12v': True, 'cooler_voltage': 2.6, 'cooler_on': True, 'cooler_current_limit': 1.0}\n"
     ]
    }
   ],
   "source": [
    "cfg.apply(mmc)\n",
    "status = cfg.snapshot(mmc)\n",
    "print(\"PMT status:\", status)\n"
   ]
  },
  {
   "cell_type": "code",
   "execution_count": 27,
   "metadata": {},
   "outputs": [
    {
     "name": "stdout",
     "output_type": "stream",
     "text": [
      "PMT status: {'gain_hv': 70.0, 'enable_outputs': True, 'plus12v': True, 'cooler_voltage': 2.6, 'cooler_on': True, 'cooler_current_limit': 1.0}\n"
     ]
    }
   ],
   "source": [
    "cfg.apply(mmc)\n",
    "status = cfg.snapshot(mmc)\n",
    "print(\"PMT status:\", status)\n"
   ]
  },
  {
   "cell_type": "code",
   "execution_count": 28,
   "metadata": {},
   "outputs": [
    {
     "data": {
      "text/plain": [
       "(70, True)"
      ]
     },
     "execution_count": 28,
     "metadata": {},
     "output_type": "execute_result"
    }
   ],
   "source": [
    "cfg.gain_hv, cfg.enable_outputs"
   ]
  },
  {
   "cell_type": "code",
   "execution_count": 36,
   "metadata": {},
   "outputs": [
    {
     "name": "stdout",
     "output_type": "stream",
     "text": [
      "45.0\n",
      "50.0\n",
      "55.0\n",
      "60.0\n",
      "65.0\n",
      "70.0\n",
      "75.0\n",
      "80.0\n",
      "85.0\n"
     ]
    }
   ],
   "source": [
    "sweep_gain(mmc,cfg)"
   ]
  },
  {
   "cell_type": "code",
   "execution_count": 39,
   "metadata": {},
   "outputs": [],
   "source": [
    "cfg.turn_off_pmt(mmc)"
   ]
  },
  {
   "cell_type": "code",
   "execution_count": null,
   "metadata": {},
   "outputs": [],
   "source": []
  },
  {
   "cell_type": "code",
   "execution_count": null,
   "metadata": {},
   "outputs": [],
   "source": [
    "from TimeTagger import TimeTagger, HistogramLogBins\n",
    "tagger = TimeTagger.createTimeTagger()\n",
    "# click_channel is your PMT channel, start_channel can be unused or your sync\n",
    "cfg.apply()\n",
    "hist = HistogramLogBins(tagger,\n",
    "                       click_channel=-1,\n",
    "                       start_channel=1,   # or your laser‑sync channel\n",
    "                       exp_start=100,      # bin width in ps\n",
    "                       n_bins=100) \n",
    "#classHistogramLogBins(tagger, click_channel, start_channel, exp_start, ex_stop, n_bins, click_gate=None, start_gate=None)\n",
    "cfg.turn_off_pmt()"
   ]
  },
  {
   "cell_type": "code",
   "execution_count": null,
   "metadata": {},
   "outputs": [],
   "source": []
  },
  {
   "cell_type": "code",
   "execution_count": null,
   "metadata": {},
   "outputs": [],
   "source": []
  },
  {
   "cell_type": "code",
   "execution_count": null,
   "metadata": {},
   "outputs": [],
   "source": []
  },
  {
   "cell_type": "code",
   "execution_count": null,
   "metadata": {},
   "outputs": [],
   "source": []
  },
  {
   "cell_type": "code",
   "execution_count": 74,
   "metadata": {},
   "outputs": [
    {
     "name": "stdout",
     "output_type": "stream",
     "text": [
      "65.0000 On On\n",
      "0.0000 Off Off\n"
     ]
    }
   ],
   "source": [
    "\n",
    "start_PMT(mmc)\n",
    "print(mmc.getProperty('DCCModule1', 'C3_GainHV'), mmc.getProperty('DCCModule1','EnableOutputs'),mmc.getProperty('DCCModule1','C3_Plus12V'))\n",
    "stop_PMT(mmc)\n",
    "print(mmc.getProperty('DCCModule1', 'C3_GainHV'), mmc.getProperty('DCCModule1','EnableOutputs'),mmc.getProperty('DCCModule1','C3_Plus12V'))"
   ]
  },
  {
   "cell_type": "raw",
   "metadata": {},
   "source": [
    "## EXAMPLE FROM PYMMCOREPLUS website\n",
    "\n",
    "#mmc.getAvailableDevices()\n",
    "mmc.load\n",
    ">>> device = Device(\"Camera\", core)\n",
    ">>> device.isLoaded()\n",
    ">>> device.load(\"NotALib\", \"DCam\")  # useful error\n",
    ">>> device.load(\"DemoCamera\", \"DCam\")\n",
    ">>> device.initialize()\n",
    ">>> device.load(\"DemoCamera\", \"DCam\")  # no-op w/ useful warning\n",
    ">>> device.properties  # tuple of DeviceProperty objects\n",
    ">>> device.description()\n",
    ">>> device.isBusy()\n",
    ">>> device.wait()\n",
    ">>> device.type()\n",
    ">>> device.schema()  # JSON schema of device properties\n",
    "\n",
    ">>> core = CMMCorePlus()\n",
    ">>> prop = DeviceProperty(\"Objective\", \"Label\", core)\n",
    ">>> prop.isValid()  # points to a loaded device property in core\n",
    ">>> prop.value\n",
    ">>> prop.value = \"Objective-2\"  # setter\n",
    ">>> prop.isReadOnly()\n",
    ">>> prop.hasLimits()\n",
    ">>> prop.range()\n",
    ">>> prop.dict()  # all the info in one dict."
   ]
  },
  {
   "cell_type": "code",
   "execution_count": null,
   "metadata": {},
   "outputs": [],
   "source": []
  },
  {
   "cell_type": "code",
   "execution_count": null,
   "metadata": {},
   "outputs": [],
   "source": []
  },
  {
   "cell_type": "markdown",
   "metadata": {},
   "source": [
    "## time tagger"
   ]
  },
  {
   "cell_type": "code",
   "execution_count": 59,
   "metadata": {},
   "outputs": [],
   "source": [
    "from pymmcore_plus import CMMCorePlus\n",
    "mmc = CMMCorePlus()\n",
    "#mmc.loadSystemConfiguration(r'C:/Program Files/Micro-Manager-2.0.0/DCC_alone.cfg')\n",
    "mmc.loadSystemConfiguration(r'C:/Program Files/Micro-Manager-nightly-markt/DCC_alone.cfg')"
   ]
  },
  {
   "cell_type": "code",
   "execution_count": 51,
   "metadata": {},
   "outputs": [
    {
     "name": "stdout",
     "output_type": "stream",
     "text": [
      "('DCCHub', 'DCCModule1', 'Core')\n",
      "Core ('AutoFocus', 'AutoShutter', 'Camera', 'ChannelGroup', 'Focus', 'Galvo', 'ImageProcessor', 'Initialize', 'SLM', 'Shutter', 'TimeoutMs', 'XYStage')\n"
     ]
    }
   ],
   "source": [
    "print(mmc.getLoadedDevices())\n",
    "for dev in core.getLoadedDevices():\n",
    "    print(dev, core.getDevicePropertyNames(dev))"
   ]
  },
  {
   "cell_type": "code",
   "execution_count": 18,
   "metadata": {},
   "outputs": [
    {
     "data": {
      "text/plain": [
       "('ENABLE', 'GAIN CONTROL PERCENT', 'Supply')"
      ]
     },
     "execution_count": 18,
     "metadata": {},
     "output_type": "execute_result"
    }
   ],
   "source": [
    "mmc.getAvailableConfigGroups()"
   ]
  },
  {
   "cell_type": "code",
   "execution_count": 27,
   "metadata": {},
   "outputs": [
    {
     "data": {
      "text/plain": [
       "['BH_DCC', 'BH_DCC_DCU']"
      ]
     },
     "execution_count": 27,
     "metadata": {},
     "output_type": "execute_result"
    }
   ],
   "source": [
    "device_adapter_names = mmc.getDeviceAdapterNames()\n",
    "[k for k in device_adapter_names if k.find('BH')>-1]"
   ]
  },
  {
   "cell_type": "code",
   "execution_count": 33,
   "metadata": {},
   "outputs": [],
   "source": [
    "from pymmcore_plus import Device, DeviceProperty"
   ]
  },
  {
   "cell_type": "code",
   "execution_count": 38,
   "metadata": {},
   "outputs": [
    {
     "name": "stdout",
     "output_type": "stream",
     "text": [
      "SimulateDevice No\n",
      "Simulated No\n",
      "UseModule1 Yes\n",
      "UseModule2 No\n",
      "UseModule3 No\n",
      "UseModule4 No\n",
      "UseModule5 No\n",
      "UseModule6 No\n",
      "UseModule7 No\n",
      "UseModule8 No\n"
     ]
    }
   ],
   "source": [
    "device = mmc.getDeviceObject('DCCHub')\n",
    "device.load('BH_DCC_DCU', 'DCCHub') \n",
    "#device.initialize()\n",
    "for prop in device.properties:\n",
    "    print(prop.name, prop.value) "
   ]
  },
  {
   "cell_type": "code",
   "execution_count": 55,
   "metadata": {},
   "outputs": [
    {
     "name": "stdout",
     "output_type": "stream",
     "text": [
      "BaseAddress\n",
      "BusNumber\n",
      "C1_GainHV\n",
      "C1_Minus5V\n",
      "C1_Overloaded\n",
      "C1_Plus12V\n",
      "C1_Plus5V\n",
      "C2_DigitalOut\n",
      "C2_Minus5V\n",
      "C2_Plus12V\n",
      "C2_Plus5V\n",
      "C3_CoolerCurrentLimit\n",
      "C3_CoolerCurrentLimitReached\n",
      "C3_CoolerVoltage\n",
      "C3_Cooling\n",
      "C3_GainHV\n",
      "C3_Minus5V\n",
      "C3_Overloaded\n",
      "C3_Plus12V\n",
      "C3_Plus5V\n",
      "ClearOverloads\n",
      "EnableOutputs\n",
      "ModuleNumber\n",
      "ModuleType\n",
      "SerialNumber\n",
      "SlotNumber\n"
     ]
    }
   ],
   "source": [
    "props = mmc.getDevicePropertyNames('DCCModule1')\n",
    "for prop in props:\n",
    "    print(prop) "
   ]
  },
  {
   "cell_type": "code",
   "execution_count": 57,
   "metadata": {},
   "outputs": [
    {
     "data": {
      "text/plain": [
       "('0.0000', 'Off', 'Off')"
      ]
     },
     "execution_count": 57,
     "metadata": {},
     "output_type": "execute_result"
    }
   ],
   "source": [
    "mmc.getProperty('DCCModule1', 'C1_GainHV'), mmc.getProperty('DCCModule1','EnableOutputs'),mmc.getProperty('DCCModule1','C3_Plus12V')"
   ]
  },
  {
   "cell_type": "code",
   "execution_count": 73,
   "metadata": {},
   "outputs": [],
   "source": [
    "def start_PMT(mmc,gain=65,ch='C3'):\n",
    "    mmc.setProperty('DCCModule1',ch+'_GainHV',gain)\n",
    "    mmc.setProperty('DCCModule1','EnableOutputs','On')\n",
    "    mmc.setProperty('DCCModule1',ch+'_Plus12V','On')\n",
    "    mmc.waitForDevice('DCCModule1')\n",
    "\n",
    "def stop_PMT(mmc,gain=0,ch='C3'):\n",
    "    mmc.setProperty('DCCModule1',ch+'_GainHV',gain)\n",
    "    mmc.setProperty('DCCModule1','EnableOutputs','Off')\n",
    "    mmc.setProperty('DCCModule1',ch+'_Plus12V','Off')\n",
    "    mmc.waitForDevice('DCCModule1')\n"
   ]
  },
  {
   "cell_type": "code",
   "execution_count": 72,
   "metadata": {},
   "outputs": [],
   "source": []
  },
  {
   "cell_type": "code",
   "execution_count": 74,
   "metadata": {},
   "outputs": [
    {
     "name": "stdout",
     "output_type": "stream",
     "text": [
      "65.0000 On On\n",
      "0.0000 Off Off\n"
     ]
    }
   ],
   "source": [
    "\n",
    "start_PMT(mmc)\n",
    "print(mmc.getProperty('DCCModule1', 'C3_GainHV'), mmc.getProperty('DCCModule1','EnableOutputs'),mmc.getProperty('DCCModule1','C3_Plus12V'))\n",
    "stop_PMT(mmc)\n",
    "print(mmc.getProperty('DCCModule1', 'C3_GainHV'), mmc.getProperty('DCCModule1','EnableOutputs'),mmc.getProperty('DCCModule1','C3_Plus12V'))"
   ]
  },
  {
   "cell_type": "raw",
   "metadata": {},
   "source": [
    "## EXAMPLE FROM PYMMCOREPLUS website\n",
    "\n",
    "#mmc.getAvailableDevices()\n",
    "mmc.load\n",
    ">>> device = Device(\"Camera\", core)\n",
    ">>> device.isLoaded()\n",
    ">>> device.load(\"NotALib\", \"DCam\")  # useful error\n",
    ">>> device.load(\"DemoCamera\", \"DCam\")\n",
    ">>> device.initialize()\n",
    ">>> device.load(\"DemoCamera\", \"DCam\")  # no-op w/ useful warning\n",
    ">>> device.properties  # tuple of DeviceProperty objects\n",
    ">>> device.description()\n",
    ">>> device.isBusy()\n",
    ">>> device.wait()\n",
    ">>> device.type()\n",
    ">>> device.schema()  # JSON schema of device properties\n",
    "\n",
    ">>> core = CMMCorePlus()\n",
    ">>> prop = DeviceProperty(\"Objective\", \"Label\", core)\n",
    ">>> prop.isValid()  # points to a loaded device property in core\n",
    ">>> prop.value\n",
    ">>> prop.value = \"Objective-2\"  # setter\n",
    ">>> prop.isReadOnly()\n",
    ">>> prop.hasLimits()\n",
    ">>> prop.range()\n",
    ">>> prop.dict()  # all the info in one dict."
   ]
  },
  {
   "cell_type": "code",
   "execution_count": null,
   "metadata": {},
   "outputs": [],
   "source": []
  },
  {
   "cell_type": "code",
   "execution_count": null,
   "metadata": {},
   "outputs": [],
   "source": []
  },
  {
   "cell_type": "markdown",
   "metadata": {},
   "source": [
    "## time tagger (duplicate?)"
   ]
  },
  {
   "cell_type": "code",
   "execution_count": 59,
   "metadata": {},
   "outputs": [],
   "source": [
    "import TimeTagger as TT\n",
    "from TimeTagger import Countrate, Counter"
   ]
  },
  {
   "cell_type": "code",
   "execution_count": 60,
   "metadata": {},
   "outputs": [],
   "source": [
    "tagger = TT.createTimeTagger()\n",
    "tagger.reset()\n",
    "tagger.clearOverflows()\n"
   ]
  },
  {
   "cell_type": "code",
   "execution_count": 61,
   "metadata": {},
   "outputs": [],
   "source": [
    "''' set variables and triggers ''' \n",
    "\n",
    "# input channels\n",
    "pmt1_start = -1\n",
    "pmt1_stop = 1\n",
    "\n",
    "# trigger levels in V\n",
    "tagger.setTriggerLevel(pmt1_start,-0.01)  \n"
   ]
  },
  {
   "cell_type": "code",
   "execution_count": 62,
   "metadata": {},
   "outputs": [],
   "source": [
    "channels = [pmt1_start,pmt1_stop]"
   ]
  },
  {
   "cell_type": "code",
   "execution_count": 63,
   "metadata": {},
   "outputs": [],
   "source": [
    "import matplotlib.pyplot as plt"
   ]
  },
  {
   "cell_type": "code",
   "execution_count": 64,
   "metadata": {},
   "outputs": [],
   "source": [
    "import numpy as np"
   ]
  },
  {
   "cell_type": "raw",
   "metadata": {},
   "source": [
    "#Countrate(tagger, channels)\n",
    "#print(counter.isRunning())\n",
    "for t in range(100)  :\n",
    "    if counter.isRunning():\n",
    "        data = counter.getData()\n",
    "    else:\n",
    "        pass\n",
    "    ncounts = np.array(counter.getCountsTotal()).sum()\n",
    "    if ncounts>0: \n",
    "        plt.plot(t,data,'.r')\n",
    "    #print(ncounts,data, end=\"\")\n",
    "else:\n",
    "    counter.stop()\n",
    "    \n"
   ]
  },
  {
   "cell_type": "code",
   "execution_count": 65,
   "metadata": {},
   "outputs": [
    {
     "data": {
      "text/plain": [
       "5.0"
      ]
     },
     "execution_count": 65,
     "metadata": {},
     "output_type": "execute_result"
    }
   ],
   "source": [
    "binwidth = 1E9\n",
    "n_values = 5000\n",
    "binwidth*n_values/1E12"
   ]
  },
  {
   "cell_type": "code",
   "execution_count": 66,
   "metadata": {},
   "outputs": [],
   "source": [
    "import time"
   ]
  },
  {
   "cell_type": "code",
   "execution_count": 80,
   "metadata": {},
   "outputs": [],
   "source": [
    "start_PMT(mmc)"
   ]
  },
  {
   "cell_type": "code",
   "execution_count": 81,
   "metadata": {},
   "outputs": [
    {
     "name": "stdout",
     "output_type": "stream",
     "text": [
      "5.0 sec\n"
     ]
    },
    {
     "data": {
      "image/png": "[encoded data removed]",
      "text/plain": [
       "<Figure size 640x480 with 1 Axes>"
      ]
     },
     "metadata": {},
     "output_type": "display_data"
    }
   ],
   "source": [
    "binwidth = 1000E9     # in ms\n",
    "n_values = 5  # \n",
    "counter = Counter(tagger, channels, binwidth, n_values) \n",
    "counter.startFor(capture_duration=binwidth*n_values)\n",
    "print(binwidth*n_values/1E12,'sec')\n",
    "while counter.isRunning(): time.sleep(binwidth*n_values/1E12)\n",
    "if not counter.isRunning():\n",
    "    data = counter.getData()\n",
    "    plt. plot(data.T,marker='.')"
   ]
  },
  {
   "cell_type": "code",
   "execution_count": 84,
   "metadata": {},
   "outputs": [
    {
     "data": {
      "text/plain": [
       "(array([[762, 794, 830, 816, 798],\n",
       "        [762, 794, 828, 816, 798]], dtype=int32),\n",
       " [-1, 1])"
      ]
     },
     "execution_count": 84,
     "metadata": {},
     "output_type": "execute_result"
    }
   ],
   "source": [
    "data,channels"
   ]
  },
  {
   "cell_type": "code",
   "execution_count": 82,
   "metadata": {},
   "outputs": [],
   "source": [
    "stop_PMT(mmc)"
   ]
  },
  {
   "cell_type": "code",
   "execution_count": 85,
   "metadata": {},
   "outputs": [
    {
     "data": {
      "text/plain": [
       "{'name': 'Counter',\n",
       " 'params': {'binwidth': 1000000000000, 'channels': [-1, 1], 'n values': 5},\n",
       " 'registered channels': [-1, 1],\n",
       " 'virtual channels': []}"
      ]
     },
     "execution_count": 85,
     "metadata": {},
     "output_type": "execute_result"
    }
   ],
   "source": [
    "counter.getConfiguration()"
   ]
  },
  {
   "cell_type": "code",
   "execution_count": 86,
   "metadata": {},
   "outputs": [
    {
     "data": {
      "text/plain": [
       "[-1, 1]"
      ]
     },
     "execution_count": 86,
     "metadata": {},
     "output_type": "execute_result"
    }
   ],
   "source": [
    "channels"
   ]
  },
  {
   "cell_type": "code",
   "execution_count": 105,
   "metadata": {},
   "outputs": [],
   "source": [
    "def get_darkcounts(collection_time_sec = 5, timing_resolution_sec=1):\n",
    "    start_PMT(mmc)\n",
    "    binwidth = timing_resolution_sec * 1E12     # in ms\n",
    "    n_values = collection_time_sec/timing_resolution_sec  # \n",
    "    counter = Counter(tagger, channels, binwidth, n_values) \n",
    "    counter.startFor(capture_duration=binwidth*n_values)\n",
    "    print(\"Collection time =\",binwidth*n_values/1E12,'sec')\n",
    "    while counter.isRunning(): time.sleep(binwidth*n_values/1E12)\n",
    "    if not counter.isRunning():\n",
    "        data = counter.getData()\n",
    "    stop_PMT(mmc)\n",
    "    return data"
   ]
  },
  {
   "cell_type": "code",
   "execution_count": 106,
   "metadata": {},
   "outputs": [
    {
     "name": "stdout",
     "output_type": "stream",
     "text": [
      "7.0 sec\n"
     ]
    }
   ],
   "source": [
    "data =get_darkcounts(collection_time_sec=7,timing_resolution_sec=.1)"
   ]
  },
  {
   "cell_type": "code",
   "execution_count": 107,
   "metadata": {},
   "outputs": [
    {
     "data": {
      "text/plain": [
       "[<matplotlib.lines.Line2D at 0x1600748cec0>,\n",
       " <matplotlib.lines.Line2D at 0x1600748cad0>]"
      ]
     },
     "execution_count": 107,
     "metadata": {},
     "output_type": "execute_result"
    },
    {
     "data": {
      "image/png": "[encoded data removed]",
      "text/plain": [
       "<Figure size 640x480 with 1 Axes>"
      ]
     },
     "metadata": {},
     "output_type": "display_data"
    }
   ],
   "source": [
    "plt.plot(data.T,marker = 'o')"
   ]
  },
  {
   "cell_type": "code",
   "execution_count": null,
   "metadata": {},
   "outputs": [],
   "source": []
  },
  {
   "cell_type": "markdown",
   "metadata": {},
   "source": [
    "## plot logans data"
   ]
  },
  {
   "cell_type": "code",
   "execution_count": 44,
   "metadata": {},
   "outputs": [],
   "source": [
    "import pandas as pd\n",
    "import os\n",
    "import pathlib\n",
    "from pathlib import Path as WindowsPath\n",
    "import seaborn as sns\n",
    "import matplotlib.pyplot as plt"
   ]
  },
  {
   "cell_type": "code",
   "execution_count": 3,
   "metadata": {},
   "outputs": [
    {
     "name": "stdout",
     "output_type": "stream",
     "text": [
      " Volume in drive C is OS\n",
      " Volume Serial Number is 2677-08A1\n",
      "\n",
      " Directory of c:\\Users\\lociuser\\code\\timetagger-scripts\n",
      "\n",
      "04/19/2025  10:50 AM    <DIR>          .\n",
      "04/19/2025  10:50 AM    <DIR>          ..\n",
      "04/19/2025  04:24 AM               172 .gitignore\n",
      "04/19/2025  10:32 AM    <DIR>          .ipynb_checkpoints\n",
      "04/18/2025  04:04 PM    <DIR>          .venv\n",
      "04/21/2025  04:55 PM    <DIR>          data\n",
      "04/19/2025  04:00 AM           118,412 plot_time_trace.ipynb\n",
      "04/19/2025  03:14 AM             2,770 plot_time_trace.py\n",
      "04/19/2025  03:14 AM             4,363 plot_time_trace_mock.py\n",
      "04/19/2025  12:23 PM    <DIR>          pmt_profiler\n",
      "04/19/2025  03:17 AM    <DIR>          pmt_profiler.egg-info\n",
      "04/19/2025  04:24 AM               903 pyproject.toml\n",
      "04/19/2025  03:14 AM             1,715 README.md\n",
      "04/19/2025  10:50 AM             2,701 Read_tekMDO32_data.ipynb\n",
      "04/19/2025  03:14 AM               114 requirements.txt\n",
      "04/18/2025  03:54 PM    <DIR>          swabianinstruments-web-demo\n",
      "04/18/2025  03:52 PM         1,186,225 swabianinstruments-web-demo.zip\n",
      "04/19/2025  04:50 AM    <DIR>          tests\n",
      "04/18/2025  03:54 PM    <DIR>          workspace_for_TT_PMTcounting\n",
      "04/18/2025  03:52 PM             4,072 workspace_for_TT_PMTcounting.zip\n",
      "              10 File(s)      1,321,447 bytes\n",
      "              10 Dir(s)  156,986,142,720 bytes free\n"
     ]
    }
   ],
   "source": [
    "!dir"
   ]
  },
  {
   "cell_type": "code",
   "execution_count": 5,
   "metadata": {},
   "outputs": [
    {
     "data": {
      "text/plain": [
       "[WindowsPath('data/dark_counts_20250419_042519.csv'),\n",
       " WindowsPath('data/dark_counts_20250419_042847.csv'),\n",
       " WindowsPath('data/dark_counts_20250419_044344.csv'),\n",
       " WindowsPath('data/dark_counts_20250419_044611.csv'),\n",
       " WindowsPath('data/dark_counts_20250419_044842.csv'),\n",
       " WindowsPath('data/dark_counts_20250419_045351.csv'),\n",
       " WindowsPath('data/dark_counts_20250419_110138.csv'),\n",
       " WindowsPath('data/dark_counts_20250419_110247.csv'),\n",
       " WindowsPath('data/dark_counts_20250419_110926_ctime_0.csv'),\n",
       " WindowsPath('data/dark_counts_20250419_111054_ctime_0.csv'),\n",
       " WindowsPath('data/dark_counts_20250419_111115_ctime_10.csv'),\n",
       " WindowsPath('data/dark_counts_20250421_160321_ctime_0.csv'),\n",
       " WindowsPath('data/dark_counts_20250421_160552_ctime_30.csv'),\n",
       " WindowsPath('data/dark_counts_20250421_161046_ctime_0_AP-SLIM-X-2012.csv'),\n",
       " WindowsPath('data/dark_counts_20250421_161257_ctime_30_AP-SLIM-X-2012.csv'),\n",
       " WindowsPath('data/dark_counts_20250421_163315_ctime_0.csv'),\n",
       " WindowsPath('data/dark_counts_20250421_163527_ctime_30.csv'),\n",
       " WindowsPath('data/dark_counts_20250421_164649_ctime_0.csv'),\n",
       " WindowsPath('data/dark_counts_20250421_164820_ctime_30.csv')]"
      ]
     },
     "execution_count": 5,
     "metadata": {},
     "output_type": "execute_result"
    }
   ],
   "source": [
    "list(pathlib.Path('data').glob('*.csv'))"
   ]
  },
  {
   "cell_type": "code",
   "execution_count": null,
   "metadata": {},
   "outputs": [],
   "source": []
  },
  {
   "cell_type": "code",
   "execution_count": null,
   "metadata": {},
   "outputs": [],
   "source": []
  },
  {
   "cell_type": "code",
   "execution_count": 43,
   "metadata": {},
   "outputs": [
    {
     "name": "stdout",
     "output_type": "stream",
     "text": [
      "dark_counts_20250421_161046_ctime_0_AP-SLIM-X-2012.csv (100, 3)\n"
     ]
    },
    {
     "data": {
      "image/png": "[encoded data removed]",
      "text/plain": [
       "<Figure size 640x480 with 2 Axes>"
      ]
     },
     "metadata": {},
     "output_type": "display_data"
    }
   ],
   "source": [
    "\n",
    "for i,j in [#[WindowsPath('data/dark_counts_20250421_160321_ctime_0.csv'),            WindowsPath('data/dark_counts_20250421_160552_ctime_30.csv')],\n",
    "            [WindowsPath('data/dark_counts_20250421_161046_ctime_0_AP-SLIM-X-2012.csv'),            WindowsPath('data/dark_counts_20250421_161257_ctime_30_AP-SLIM-X-2012.csv')],\n",
    "           # [WindowsPath('data/dark_counts_20250421_163315_ctime_0.csv'),            WindowsPath('data/dark_counts_20250421_163527_ctime_30.csv')],\n",
    "           # [WindowsPath('data/dark_counts_20250421_164649_ctime_0.csv'),            WindowsPath('data/dark_counts_20250421_164820_ctime_30.csv')]\n",
    "        ]:\n",
    "    _,ax1 = plt.subplots()\n",
    "    ax2 = ax1.twinx()\n",
    "    df1 = pd.read_csv(i)\n",
    "    df2 = pd.read_csv(j)\n",
    "    sns.lineplot(x=df1.columns[0],y=df1.columns[1],data=df1,label = i.name, ax=ax1, linestyle='--',color='k')\n",
    "    print(i.name, df.shape) \n",
    "    sns.lineplot(x=df2.columns[0],y=df2.columns[1],data=df2,label = j.name, ax=ax2, linestyle='solid',color='g')\n",
    "    ax2.set_ylabel(df1.columns[1], color='g')  # y-axis label color\n",
    "    ax1.legend(  bbox_to_anchor=(1.2, 0.6))\n",
    "    ax2.legend(  bbox_to_anchor=(1.2, 0.5))\n"
   ]
  },
  {
   "cell_type": "code",
   "execution_count": null,
   "metadata": {},
   "outputs": [],
   "source": []
  },
  {
   "cell_type": "code",
   "execution_count": null,
   "metadata": {},
   "outputs": [],
   "source": []
  }
 ],
 "metadata": {
  "kernelspec": {
   "display_name": ".venv",
   "language": "python",
   "name": "python3"
  },
  "language_info": {
   "codemirror_mode": {
    "name": "ipython",
    "version": 3
   },
   "file_extension": ".py",
   "mimetype": "text/x-python",
   "name": "python",
   "nbconvert_exporter": "python",
   "pygments_lexer": "ipython3",
   "version": "3.12.10"
  }
 },
 "nbformat": 4,
 "nbformat_minor": 4
}
